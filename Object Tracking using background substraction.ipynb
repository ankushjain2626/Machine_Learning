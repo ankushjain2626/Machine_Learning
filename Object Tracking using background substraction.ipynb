{
 "cells": [
  {
   "cell_type": "markdown",
   "metadata": {},
   "source": [
    "## Object Tracking using background substraction"
   ]
  },
  {
   "cell_type": "code",
   "execution_count": 2,
   "metadata": {},
   "outputs": [],
   "source": [
    "import cv2"
   ]
  },
  {
   "cell_type": "code",
   "execution_count": 7,
   "metadata": {},
   "outputs": [],
   "source": [
    "if __name__ == '__main__':\n",
    "    cap = cv2.VideoCapture(0)\n",
    " \n",
    "    while True:\n",
    "        \n",
    "        _,frame=cap.read()\n",
    "\n",
    "        scaling_factor=0.5\n",
    "        frame=cv2.resize(frame, None, fx=scaling_factor,fy=scaling_factor,interpolation=cv2.INTER_AREA)\n",
    "        #frame=cv2.cvtColor(frame,cv2.COLOR_GRAY2BGR)\n",
    "\n",
    "        bg_substractor=cv2.createBackgroundSubtractorMOG2()\n",
    "        history=100\n",
    "        learning_rate=1.0/history\n",
    "\n",
    "        mask=bg_substractor.apply(frame,learningRate=learning_rate)\n",
    "\n",
    "        mask=cv2.cvtColor(mask,cv2.COLOR_GRAY2BGR)\n",
    "\n",
    "        cv2.imshow('Input',frame)\n",
    "        cv2.imshow('Output',frame & mask)\n",
    "\n",
    "        key=cv2.waitKey(5)\n",
    "        if key == 27:\n",
    "            break\n",
    "    \n",
    "    cap.release()\n",
    "    cv2.destroyAllWindows()\n",
    "    \n",
    "    "
   ]
  },
  {
   "cell_type": "code",
   "execution_count": null,
   "metadata": {},
   "outputs": [],
   "source": []
  }
 ],
 "metadata": {
  "kernelspec": {
   "display_name": "Python 3",
   "language": "python",
   "name": "python3"
  },
  "language_info": {
   "codemirror_mode": {
    "name": "ipython",
    "version": 3
   },
   "file_extension": ".py",
   "mimetype": "text/x-python",
   "name": "python",
   "nbconvert_exporter": "python",
   "pygments_lexer": "ipython3",
   "version": "3.7.1"
  }
 },
 "nbformat": 4,
 "nbformat_minor": 2
}
