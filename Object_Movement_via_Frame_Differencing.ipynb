{
 "cells": [
  {
   "cell_type": "markdown",
   "metadata": {},
   "source": [
    "## Frame Differencing"
   ]
  },
  {
   "cell_type": "code",
   "execution_count": 1,
   "metadata": {},
   "outputs": [],
   "source": [
    "import cv2"
   ]
  },
  {
   "cell_type": "code",
   "execution_count": 18,
   "metadata": {},
   "outputs": [],
   "source": [
    "def get_frame(cap,scaling_factor):\n",
    "    _,frame = cap.read() #read\n",
    "    # frame= cv2.resize(frame,None,fx=scaling_factor,fy=scaling_factor,interpolation=cv2.INTER_AREA) #optional scaling\n",
    "    # frame = cv2.cvtColor(frame,cv2.COLOR_RGB2BGR) #optional color conversion to grayscale\n",
    "    return frame\n",
    "    "
   ]
  },
  {
   "cell_type": "code",
   "execution_count": 19,
   "metadata": {},
   "outputs": [],
   "source": [
    "def get_frame_diff(prev_frame, curr_frame, next_frame):\n",
    "    diff_frame_1=cv2.absdiff(prev_frame, curr_frame)\n",
    "    diff_frame_2=cv2.absdiff(curr_frame, next_frame)\n",
    "    return cv2.bitwise_and(diff_frame_1,diff_frame_2)"
   ]
  },
  {
   "cell_type": "code",
   "execution_count": 20,
   "metadata": {},
   "outputs": [],
   "source": [
    "if __name__ == '__main__':\n",
    "    cap = cv2.VideoCapture(0)\n",
    "    scaling_factor=0.5\n",
    "    prev_frame=get_frame(cap,scaling_factor)\n",
    "    curr_frame=get_frame(cap,scaling_factor)\n",
    "    next_frame=get_frame(cap,scaling_factor)\n",
    "    \n",
    "    while True:\n",
    "        cv2.namedWindow('Object Movement using Frame Differencing',cv2.WINDOW_NORMAL)\n",
    "        cv2.imshow('Object Movement using Frame Differencing',get_frame_diff(prev_frame, curr_frame, next_frame))\n",
    "        prev_frame=curr_frame\n",
    "        curr_frame=next_frame\n",
    "        next_frame=get_frame(cap,scaling_factor)\n",
    "        \n",
    "        key=cv2.waitKey(5)\n",
    "        if key == 27:\n",
    "            break\n",
    "\n",
    "    cv2.destroyAllWindows()"
   ]
  },
  {
   "cell_type": "code",
   "execution_count": null,
   "metadata": {},
   "outputs": [],
   "source": []
  }
 ],
 "metadata": {
  "kernelspec": {
   "display_name": "Python 3",
   "language": "python",
   "name": "python3"
  },
  "language_info": {
   "codemirror_mode": {
    "name": "ipython",
    "version": 3
   },
   "file_extension": ".py",
   "mimetype": "text/x-python",
   "name": "python",
   "nbconvert_exporter": "python",
   "pygments_lexer": "ipython3",
   "version": "3.7.1"
  }
 },
 "nbformat": 4,
 "nbformat_minor": 2
}
