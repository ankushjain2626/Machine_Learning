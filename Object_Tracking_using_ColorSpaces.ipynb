{
 "cells": [
  {
   "cell_type": "markdown",
   "metadata": {},
   "source": [
    "## Object Tracking using ColorSpaces"
   ]
  },
  {
   "cell_type": "code",
   "execution_count": 5,
   "metadata": {},
   "outputs": [],
   "source": [
    "import cv2\n",
    "import numpy as np"
   ]
  },
  {
   "cell_type": "code",
   "execution_count": 12,
   "metadata": {},
   "outputs": [],
   "source": [
    "if __name__ == '__main__':\n",
    "    cap=cv2.VideoCapture(0)\n",
    "    while True:\n",
    "        _,frame = cap.read() \n",
    "        scaling_factor=0.5\n",
    "        cv2.resize(frame,None,fx=scaling_factor,fy=scaling_factor,interpolation=cv2.INTER_AREA)\n",
    "        hsv=cv2.cvtColor(frame,cv2.COLOR_BGR2HSV)\n",
    "        lower=np.array([0,48,80])\n",
    "        upper=np.array([20,255,255])\n",
    "        mask=cv2.inRange(hsv,lower,upper)\n",
    "        img_bitwise_and=cv2.bitwise_and(frame,frame,mask=mask)\n",
    "        img_median_blurred=cv2.medianBlur(img_bitwise_and,5)\n",
    "        cv2.imshow('Input',frame)\n",
    "        cv2.imshow('Output',img_median_blurred)\n",
    "\n",
    "        key=cv2.waitKey(5)\n",
    "        if key == 27:\n",
    "            break\n",
    "    \n",
    "    cv2.destroyAllWindows()\n",
    "    "
   ]
  },
  {
   "cell_type": "code",
   "execution_count": 14,
   "metadata": {},
   "outputs": [],
   "source": []
  },
  {
   "cell_type": "code",
   "execution_count": null,
   "metadata": {},
   "outputs": [],
   "source": []
  }
 ],
 "metadata": {
  "kernelspec": {
   "display_name": "Python 3",
   "language": "python",
   "name": "python3"
  },
  "language_info": {
   "codemirror_mode": {
    "name": "ipython",
    "version": 3
   },
   "file_extension": ".py",
   "mimetype": "text/x-python",
   "name": "python",
   "nbconvert_exporter": "python",
   "pygments_lexer": "ipython3",
   "version": "3.7.1"
  }
 },
 "nbformat": 4,
 "nbformat_minor": 2
}
