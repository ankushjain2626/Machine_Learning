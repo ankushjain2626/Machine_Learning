{
 "cells": [
  {
   "cell_type": "markdown",
   "metadata": {},
   "source": [
    "# Amazon Fine Food Reviews Analysis using Logistic Regression.\n",
    "\n",
    "Data Source: https://www.kaggle.com/snap/amazon-fine-food-reviews\n",
    "\n",
    "#### Basic information about the downloaded dataset<br>\n",
    "\n",
    "Number of reviews: 568,454<br>\n",
    "Number of users: 256,059<br>\n",
    "Number of products: 74,258<br>\n",
    "Timespan: Oct 1999 - Oct 2012<br>\n",
    "Number of Attributes/Columns in data: 10 \n",
    "\n",
    "#### Attribute Information:\n",
    "\n",
    "1. Id\n",
    "2. ProductId - unique identifier for the product\n",
    "3. UserId - unqiue identifier for the user\n",
    "4. ProfileName\n",
    "5. HelpfulnessNumerator - number of users who found the review helpful\n",
    "6. HelpfulnessDenominator - number of users who indicated whether they found the review helpful or not\n",
    "7. Score - rating between 1 and 5\n",
    "8. Time - timestamp for the review\n",
    "9. Summary - brief summary of the review\n",
    "10. Text - text of the review\n",
    "\n",
    "\n",
    "#### Objective:\n",
    "Our main objective for this analysis is to train a model which can seperate the postive and negative reviews.\n",
    "In this problem we will apply classification techniques called Logistic Regression to get an idea if the data can be seperated based on its polarity, i.e. if the review is positive or negative. By looking at the Score column we can make out that the review is positive or not. But we don't need to implement any ML here. A simple if-else condition will make us do this. So for this problem, we will put our focus on to the Review text. The text is the most important feature here if you may ask. Based on the review text we will build a prediction model and determine if a future review is positive or negative.\n",
    "\n",
    "#### While pre-processing the original dataset we have taken into consideration the following points.\n",
    "\n",
    "1. We will classify a review to be positive if and only if the corresponding Score for the given review is 4 or 5.\n",
    "2. We will classify a review to be negative if and only if the corresponding Score for the given review is 1 or 2.\n",
    "3. We will ignore the reviews for the time being which has a Score rating of 3. Because 3 can be thought of as a neutral review. It's neither negative nor positive.\n",
    "4. We will remove the duplicate entries from the dataset. \n",
    "5. We will train our final mdel using four featurizations -> bag of words model, tf-idf model, average word-to-vec model and tf-idf weighted word-to-vec model.\n",
    "6. So at end of the training the model will be trained on the above four featurizations to determine if a given review is positive or negative (Determining the sentiment polarity of the Amazon reviews)"
   ]
  },
  {
   "cell_type": "markdown",
   "metadata": {},
   "source": [
    "## [1.0] Importing Libraries"
   ]
  },
  {
   "cell_type": "code",
   "execution_count": 4,
   "metadata": {},
   "outputs": [],
   "source": [
    "%matplotlib inline\n",
    "import warnings\n",
    "warnings.filterwarnings(\"ignore\")\n",
    "\n",
    "import sqlite3\n",
    "import pandas as pd\n",
    "import numpy as np\n",
    "import nltk\n",
    "import string\n",
    "import matplotlib.pyplot as plt\n",
    "import seaborn as sns\n",
    "from sklearn.feature_extraction.text import TfidfTransformer, TfidfVectorizer\n",
    "import math\n",
    "from sklearn.feature_extraction.text import CountVectorizer\n",
    "from sklearn import metrics\n",
    "import re\n",
    "# Tutorial about Python regular expressions: https://pymotw.com/2/re/\n",
    "import string\n",
    "from nltk.corpus import stopwords\n",
    "from nltk.stem import PorterStemmer\n",
    "from nltk.stem.wordnet import WordNetLemmatizer\n",
    "#from gensim.models import Word2Vec\n",
    "#from gensim.models import KeyedVectors\n",
    "import pickle\n",
    "from tqdm import tqdm\n",
    "import os\n",
    "from sklearn.linear_model import LogisticRegression\n",
    "from sklearn.model_selection import GridSearchCV, RandomizedSearchCV, train_test_split\n",
    "from sklearn.metrics import confusion_matrix, precision_score, recall_score, f1_score, accuracy_score, roc_curve, auc\n",
    "from sklearn.calibration import CalibratedClassifierCV\n",
    "from datetime import datetime as dt"
   ]
  },
  {
   "cell_type": "markdown",
   "metadata": {},
   "source": [
    "## [1.1] Loading the data"
   ]
  },
  {
   "cell_type": "code",
   "execution_count": 5,
   "metadata": {},
   "outputs": [],
   "source": [
    "connection_sqlite3 = sqlite3.connect('database.sqlite')\n",
    "filtered_data = pd.read_sql_query(\"\"\"select * from reviews where score!=3\"\"\", connection_sqlite3)"
   ]
  },
  {
   "cell_type": "code",
   "execution_count": 6,
   "metadata": {},
   "outputs": [
    {
     "data": {
      "text/plain": [
       "(525814, 10)"
      ]
     },
     "execution_count": 6,
     "metadata": {},
     "output_type": "execute_result"
    }
   ],
   "source": [
    "filtered_data.shape"
   ]
  },
  {
   "cell_type": "code",
   "execution_count": 7,
   "metadata": {},
   "outputs": [
    {
     "data": {
      "text/html": [
       "<div>\n",
       "<style scoped>\n",
       "    .dataframe tbody tr th:only-of-type {\n",
       "        vertical-align: middle;\n",
       "    }\n",
       "\n",
       "    .dataframe tbody tr th {\n",
       "        vertical-align: top;\n",
       "    }\n",
       "\n",
       "    .dataframe thead th {\n",
       "        text-align: right;\n",
       "    }\n",
       "</style>\n",
       "<table border=\"1\" class=\"dataframe\">\n",
       "  <thead>\n",
       "    <tr style=\"text-align: right;\">\n",
       "      <th></th>\n",
       "      <th>Id</th>\n",
       "      <th>ProductId</th>\n",
       "      <th>UserId</th>\n",
       "      <th>ProfileName</th>\n",
       "      <th>HelpfulnessNumerator</th>\n",
       "      <th>HelpfulnessDenominator</th>\n",
       "      <th>Score</th>\n",
       "      <th>Time</th>\n",
       "      <th>Summary</th>\n",
       "      <th>Text</th>\n",
       "    </tr>\n",
       "  </thead>\n",
       "  <tbody>\n",
       "    <tr>\n",
       "      <th>0</th>\n",
       "      <td>1</td>\n",
       "      <td>B001E4KFG0</td>\n",
       "      <td>A3SGXH7AUHU8GW</td>\n",
       "      <td>delmartian</td>\n",
       "      <td>1</td>\n",
       "      <td>1</td>\n",
       "      <td>5</td>\n",
       "      <td>1303862400</td>\n",
       "      <td>Good Quality Dog Food</td>\n",
       "      <td>I have bought several of the Vitality canned d...</td>\n",
       "    </tr>\n",
       "    <tr>\n",
       "      <th>1</th>\n",
       "      <td>2</td>\n",
       "      <td>B00813GRG4</td>\n",
       "      <td>A1D87F6ZCVE5NK</td>\n",
       "      <td>dll pa</td>\n",
       "      <td>0</td>\n",
       "      <td>0</td>\n",
       "      <td>1</td>\n",
       "      <td>1346976000</td>\n",
       "      <td>Not as Advertised</td>\n",
       "      <td>Product arrived labeled as Jumbo Salted Peanut...</td>\n",
       "    </tr>\n",
       "  </tbody>\n",
       "</table>\n",
       "</div>"
      ],
      "text/plain": [
       "   Id   ProductId          UserId ProfileName  HelpfulnessNumerator  \\\n",
       "0   1  B001E4KFG0  A3SGXH7AUHU8GW  delmartian                     1   \n",
       "1   2  B00813GRG4  A1D87F6ZCVE5NK      dll pa                     0   \n",
       "\n",
       "   HelpfulnessDenominator  Score        Time                Summary  \\\n",
       "0                       1      5  1303862400  Good Quality Dog Food   \n",
       "1                       0      1  1346976000      Not as Advertised   \n",
       "\n",
       "                                                Text  \n",
       "0  I have bought several of the Vitality canned d...  \n",
       "1  Product arrived labeled as Jumbo Salted Peanut...  "
      ]
     },
     "execution_count": 7,
     "metadata": {},
     "output_type": "execute_result"
    }
   ],
   "source": [
    "filtered_data.head(2)"
   ]
  },
  {
   "cell_type": "code",
   "execution_count": 8,
   "metadata": {},
   "outputs": [
    {
     "name": "stdout",
     "output_type": "stream",
     "text": [
      "<class 'pandas.core.frame.DataFrame'>\n",
      "RangeIndex: 525814 entries, 0 to 525813\n",
      "Data columns (total 10 columns):\n",
      "Id                        525814 non-null int64\n",
      "ProductId                 525814 non-null object\n",
      "UserId                    525814 non-null object\n",
      "ProfileName               525814 non-null object\n",
      "HelpfulnessNumerator      525814 non-null int64\n",
      "HelpfulnessDenominator    525814 non-null int64\n",
      "Score                     525814 non-null int64\n",
      "Time                      525814 non-null int64\n",
      "Summary                   525814 non-null object\n",
      "Text                      525814 non-null object\n",
      "dtypes: int64(5), object(5)\n",
      "memory usage: 40.1+ MB\n"
     ]
    }
   ],
   "source": [
    "filtered_data.info()"
   ]
  },
  {
   "cell_type": "markdown",
   "metadata": {},
   "source": [
    "## [1.2] - Check for Balancing, Duplicates and NULLs"
   ]
  },
  {
   "cell_type": "code",
   "execution_count": 9,
   "metadata": {},
   "outputs": [
    {
     "data": {
      "text/plain": [
       "<matplotlib.axes._subplots.AxesSubplot at 0x2428fbd5ba8>"
      ]
     },
     "execution_count": 9,
     "metadata": {},
     "output_type": "execute_result"
    },
    {
     "data": {
      "image/png": "[encoded data removed]",
      "text/plain": [
       "<Figure size 432x288 with 1 Axes>"
      ]
     },
     "metadata": {
      "needs_background": "light"
     },
     "output_type": "display_data"
    }
   ],
   "source": [
    "filtered_data['Score'].value_counts().plot.bar()"
   ]
  },
  {
   "cell_type": "code",
   "execution_count": 10,
   "metadata": {},
   "outputs": [
    {
     "name": "stdout",
     "output_type": "stream",
     "text": [
      "There are 3685 duplicates in the dataset\n"
     ]
    }
   ],
   "source": [
    "dup_boolean = filtered_data.duplicated(['ProductId','UserId','Time'])\n",
    "duplicates_count=sum(dup_boolean)\n",
    "print('There are {} duplicates in the dataset'.format(duplicates_count))"
   ]
  },
  {
   "cell_type": "code",
   "execution_count": 11,
   "metadata": {},
   "outputs": [
    {
     "name": "stdout",
     "output_type": "stream",
     "text": [
      "Duplicates removed, no. of records in D afterwards :522129\n"
     ]
    }
   ],
   "source": [
    "deduplicated_data=filtered_data.drop_duplicates(subset=['ProductId','UserId','Time'],keep='first',inplace=False)\n",
    "print('Duplicates removed, no. of records in D afterwards :{}'.format(deduplicated_data.shape[0]))"
   ]
  },
  {
   "cell_type": "code",
   "execution_count": 12,
   "metadata": {},
   "outputs": [
    {
     "name": "stdout",
     "output_type": "stream",
     "text": [
      "No. of Null values in the dataset :0\n"
     ]
    }
   ],
   "source": [
    "print('No. of Null values in the dataset :{}'.format(sum(deduplicated_data.isnull().any())))"
   ]
  },
  {
   "cell_type": "markdown",
   "metadata": {},
   "source": [
    "## [1.3]- Illogical records removal, Unwanted Columns removal, Target Columns Addition, Outliers removal"
   ]
  },
  {
   "cell_type": "code",
   "execution_count": 13,
   "metadata": {},
   "outputs": [
    {
     "data": {
      "text/plain": [
       "Id                        2\n",
       "ProductId                 2\n",
       "UserId                    2\n",
       "ProfileName               2\n",
       "HelpfulnessNumerator      2\n",
       "HelpfulnessDenominator    2\n",
       "Score                     2\n",
       "Time                      2\n",
       "Summary                   2\n",
       "Text                      2\n",
       "dtype: int64"
      ]
     },
     "execution_count": 13,
     "metadata": {},
     "output_type": "execute_result"
    }
   ],
   "source": [
    "deduplicated_data[deduplicated_data['HelpfulnessNumerator']>deduplicated_data['HelpfulnessDenominator']].count()"
   ]
  },
  {
   "cell_type": "code",
   "execution_count": 14,
   "metadata": {},
   "outputs": [
    {
     "data": {
      "text/html": [
       "<div>\n",
       "<style scoped>\n",
       "    .dataframe tbody tr th:only-of-type {\n",
       "        vertical-align: middle;\n",
       "    }\n",
       "\n",
       "    .dataframe tbody tr th {\n",
       "        vertical-align: top;\n",
       "    }\n",
       "\n",
       "    .dataframe thead th {\n",
       "        text-align: right;\n",
       "    }\n",
       "</style>\n",
       "<table border=\"1\" class=\"dataframe\">\n",
       "  <thead>\n",
       "    <tr style=\"text-align: right;\">\n",
       "      <th></th>\n",
       "      <th>Id</th>\n",
       "      <th>ProductId</th>\n",
       "      <th>UserId</th>\n",
       "      <th>ProfileName</th>\n",
       "      <th>HelpfulnessNumerator</th>\n",
       "      <th>HelpfulnessDenominator</th>\n",
       "      <th>Score</th>\n",
       "      <th>Time</th>\n",
       "      <th>Summary</th>\n",
       "      <th>Text</th>\n",
       "    </tr>\n",
       "  </thead>\n",
       "  <tbody>\n",
       "    <tr>\n",
       "      <th>41159</th>\n",
       "      <td>44737</td>\n",
       "      <td>B001EQ55RW</td>\n",
       "      <td>A2V0I904FH7ABY</td>\n",
       "      <td>Ram</td>\n",
       "      <td>3</td>\n",
       "      <td>2</td>\n",
       "      <td>4</td>\n",
       "      <td>1212883200</td>\n",
       "      <td>Pure cocoa taste with crunchy almonds inside</td>\n",
       "      <td>It was almost a 'love at first bite' - the per...</td>\n",
       "    </tr>\n",
       "    <tr>\n",
       "      <th>59301</th>\n",
       "      <td>64422</td>\n",
       "      <td>B000MIDROQ</td>\n",
       "      <td>A161DK06JJMCYF</td>\n",
       "      <td>J. E. Stephens \"Jeanne\"</td>\n",
       "      <td>3</td>\n",
       "      <td>1</td>\n",
       "      <td>5</td>\n",
       "      <td>1224892800</td>\n",
       "      <td>Bought This for My Son at College</td>\n",
       "      <td>My son loves spaghetti so I didn't hesitate or...</td>\n",
       "    </tr>\n",
       "  </tbody>\n",
       "</table>\n",
       "</div>"
      ],
      "text/plain": [
       "          Id   ProductId          UserId              ProfileName  \\\n",
       "41159  44737  B001EQ55RW  A2V0I904FH7ABY                      Ram   \n",
       "59301  64422  B000MIDROQ  A161DK06JJMCYF  J. E. Stephens \"Jeanne\"   \n",
       "\n",
       "       HelpfulnessNumerator  HelpfulnessDenominator  Score        Time  \\\n",
       "41159                     3                       2      4  1212883200   \n",
       "59301                     3                       1      5  1224892800   \n",
       "\n",
       "                                            Summary  \\\n",
       "41159  Pure cocoa taste with crunchy almonds inside   \n",
       "59301             Bought This for My Son at College   \n",
       "\n",
       "                                                    Text  \n",
       "41159  It was almost a 'love at first bite' - the per...  \n",
       "59301  My son loves spaghetti so I didn't hesitate or...  "
      ]
     },
     "execution_count": 14,
     "metadata": {},
     "output_type": "execute_result"
    }
   ],
   "source": [
    "deduplicated_data[deduplicated_data['HelpfulnessNumerator']>deduplicated_data['HelpfulnessDenominator']].head()"
   ]
  },
  {
   "cell_type": "code",
   "execution_count": 16,
   "metadata": {},
   "outputs": [
    {
     "name": "stdout",
     "output_type": "stream",
     "text": [
      "Illogical records removed, no. of records in D afterwards :522127\n"
     ]
    }
   ],
   "source": [
    "filtered_data1=deduplicated_data[deduplicated_data['HelpfulnessNumerator']<=deduplicated_data['HelpfulnessDenominator']]\n",
    "print('Illogical records removed, no. of records in D afterwards :{}'.format(filtered_data1.shape[0]))"
   ]
  },
  {
   "cell_type": "code",
   "execution_count": 17,
   "metadata": {},
   "outputs": [
    {
     "data": {
      "text/html": [
       "<div>\n",
       "<style scoped>\n",
       "    .dataframe tbody tr th:only-of-type {\n",
       "        vertical-align: middle;\n",
       "    }\n",
       "\n",
       "    .dataframe tbody tr th {\n",
       "        vertical-align: top;\n",
       "    }\n",
       "\n",
       "    .dataframe thead th {\n",
       "        text-align: right;\n",
       "    }\n",
       "</style>\n",
       "<table border=\"1\" class=\"dataframe\">\n",
       "  <thead>\n",
       "    <tr style=\"text-align: right;\">\n",
       "      <th></th>\n",
       "      <th>Id</th>\n",
       "      <th>ProductId</th>\n",
       "      <th>UserId</th>\n",
       "      <th>Score</th>\n",
       "      <th>Summary</th>\n",
       "      <th>Text</th>\n",
       "    </tr>\n",
       "  </thead>\n",
       "  <tbody>\n",
       "    <tr>\n",
       "      <th>0</th>\n",
       "      <td>1</td>\n",
       "      <td>B001E4KFG0</td>\n",
       "      <td>A3SGXH7AUHU8GW</td>\n",
       "      <td>5</td>\n",
       "      <td>Good Quality Dog Food</td>\n",
       "      <td>I have bought several of the Vitality canned d...</td>\n",
       "    </tr>\n",
       "  </tbody>\n",
       "</table>\n",
       "</div>"
      ],
      "text/plain": [
       "   Id   ProductId          UserId  Score                Summary  \\\n",
       "0   1  B001E4KFG0  A3SGXH7AUHU8GW      5  Good Quality Dog Food   \n",
       "\n",
       "                                                Text  \n",
       "0  I have bought several of the Vitality canned d...  "
      ]
     },
     "execution_count": 17,
     "metadata": {},
     "output_type": "execute_result"
    }
   ],
   "source": [
    "filtered_data2=filtered_data1[['Id','ProductId','UserId','Score','Summary','Text']]\n",
    "filtered_data2.head(1)"
   ]
  },
  {
   "cell_type": "code",
   "execution_count": 18,
   "metadata": {},
   "outputs": [
    {
     "data": {
      "text/html": [
       "<div>\n",
       "<style scoped>\n",
       "    .dataframe tbody tr th:only-of-type {\n",
       "        vertical-align: middle;\n",
       "    }\n",
       "\n",
       "    .dataframe tbody tr th {\n",
       "        vertical-align: top;\n",
       "    }\n",
       "\n",
       "    .dataframe thead th {\n",
       "        text-align: right;\n",
       "    }\n",
       "</style>\n",
       "<table border=\"1\" class=\"dataframe\">\n",
       "  <thead>\n",
       "    <tr style=\"text-align: right;\">\n",
       "      <th></th>\n",
       "      <th>Id</th>\n",
       "      <th>ProductId</th>\n",
       "      <th>UserId</th>\n",
       "      <th>Score</th>\n",
       "      <th>Summary</th>\n",
       "      <th>Text</th>\n",
       "      <th>SentimentPolarity</th>\n",
       "    </tr>\n",
       "  </thead>\n",
       "  <tbody>\n",
       "    <tr>\n",
       "      <th>0</th>\n",
       "      <td>1</td>\n",
       "      <td>B001E4KFG0</td>\n",
       "      <td>A3SGXH7AUHU8GW</td>\n",
       "      <td>5</td>\n",
       "      <td>Good Quality Dog Food</td>\n",
       "      <td>I have bought several of the Vitality canned d...</td>\n",
       "      <td>Positive</td>\n",
       "    </tr>\n",
       "    <tr>\n",
       "      <th>1</th>\n",
       "      <td>2</td>\n",
       "      <td>B00813GRG4</td>\n",
       "      <td>A1D87F6ZCVE5NK</td>\n",
       "      <td>1</td>\n",
       "      <td>Not as Advertised</td>\n",
       "      <td>Product arrived labeled as Jumbo Salted Peanut...</td>\n",
       "      <td>Negative</td>\n",
       "    </tr>\n",
       "  </tbody>\n",
       "</table>\n",
       "</div>"
      ],
      "text/plain": [
       "   Id   ProductId          UserId  Score                Summary  \\\n",
       "0   1  B001E4KFG0  A3SGXH7AUHU8GW      5  Good Quality Dog Food   \n",
       "1   2  B00813GRG4  A1D87F6ZCVE5NK      1      Not as Advertised   \n",
       "\n",
       "                                                Text SentimentPolarity  \n",
       "0  I have bought several of the Vitality canned d...          Positive  \n",
       "1  Product arrived labeled as Jumbo Salted Peanut...          Negative  "
      ]
     },
     "execution_count": 18,
     "metadata": {},
     "output_type": "execute_result"
    }
   ],
   "source": [
    "filtered_data2['SentimentPolarity']=filtered_data2['Score'].apply(lambda x:'Positive' if x>3 else 'Negative')\n",
    "filtered_data2.head(2)"
   ]
  },
  {
   "cell_type": "code",
   "execution_count": 19,
   "metadata": {},
   "outputs": [
    {
     "data": {
      "text/html": [
       "<div>\n",
       "<style scoped>\n",
       "    .dataframe tbody tr th:only-of-type {\n",
       "        vertical-align: middle;\n",
       "    }\n",
       "\n",
       "    .dataframe tbody tr th {\n",
       "        vertical-align: top;\n",
       "    }\n",
       "\n",
       "    .dataframe thead th {\n",
       "        text-align: right;\n",
       "    }\n",
       "</style>\n",
       "<table border=\"1\" class=\"dataframe\">\n",
       "  <thead>\n",
       "    <tr style=\"text-align: right;\">\n",
       "      <th></th>\n",
       "      <th>Id</th>\n",
       "      <th>ProductId</th>\n",
       "      <th>UserId</th>\n",
       "      <th>Score</th>\n",
       "      <th>Summary</th>\n",
       "      <th>Text</th>\n",
       "      <th>SentimentPolarity</th>\n",
       "      <th>Class_Labels</th>\n",
       "    </tr>\n",
       "  </thead>\n",
       "  <tbody>\n",
       "    <tr>\n",
       "      <th>0</th>\n",
       "      <td>1</td>\n",
       "      <td>B001E4KFG0</td>\n",
       "      <td>A3SGXH7AUHU8GW</td>\n",
       "      <td>5</td>\n",
       "      <td>Good Quality Dog Food</td>\n",
       "      <td>I have bought several of the Vitality canned d...</td>\n",
       "      <td>Positive</td>\n",
       "      <td>1</td>\n",
       "    </tr>\n",
       "    <tr>\n",
       "      <th>1</th>\n",
       "      <td>2</td>\n",
       "      <td>B00813GRG4</td>\n",
       "      <td>A1D87F6ZCVE5NK</td>\n",
       "      <td>1</td>\n",
       "      <td>Not as Advertised</td>\n",
       "      <td>Product arrived labeled as Jumbo Salted Peanut...</td>\n",
       "      <td>Negative</td>\n",
       "      <td>0</td>\n",
       "    </tr>\n",
       "  </tbody>\n",
       "</table>\n",
       "</div>"
      ],
      "text/plain": [
       "   Id   ProductId          UserId  Score                Summary  \\\n",
       "0   1  B001E4KFG0  A3SGXH7AUHU8GW      5  Good Quality Dog Food   \n",
       "1   2  B00813GRG4  A1D87F6ZCVE5NK      1      Not as Advertised   \n",
       "\n",
       "                                                Text SentimentPolarity  \\\n",
       "0  I have bought several of the Vitality canned d...          Positive   \n",
       "1  Product arrived labeled as Jumbo Salted Peanut...          Negative   \n",
       "\n",
       "   Class_Labels  \n",
       "0             1  \n",
       "1             0  "
      ]
     },
     "execution_count": 19,
     "metadata": {},
     "output_type": "execute_result"
    }
   ],
   "source": [
    "filtered_data2['Class_Labels']=filtered_data2['SentimentPolarity'].apply(lambda x: 1 if x=='Positive' else 0)\n",
    "filtered_data2.head(2)"
   ]
  },
  {
   "cell_type": "code",
   "execution_count": 20,
   "metadata": {},
   "outputs": [
    {
     "name": "stdout",
     "output_type": "stream",
     "text": [
      "Note: This is a classification problem based on raw text, no obvious outlier in this case. The objective is not to find what score a user would give to a product, that is the use case of recommender systems, but the objective is to infer wheather a review is having a postive sentiment or a negative sentiment based on review text\n"
     ]
    }
   ],
   "source": [
    "print('Note: This is a classification problem based on raw text, no obvious outlier in this case. The objective is not to find what score a user would give to a product, that is the use case of recommender systems, but the objective is to infer wheather a review is having a postive sentiment or a negative sentiment based on review text')"
   ]
  },
  {
   "cell_type": "markdown",
   "metadata": {},
   "source": [
    "## [2.0] - Preprocessing the text (HUP2$MLSS)"
   ]
  },
  {
   "cell_type": "markdown",
   "metadata": {},
   "source": [
    "### [2.1] Preprocessing functions creation"
   ]
  },
  {
   "cell_type": "code",
   "execution_count": 21,
   "metadata": {},
   "outputs": [
    {
     "data": {
      "text/plain": [
       "'world  good '"
      ]
     },
     "execution_count": 21,
     "metadata": {},
     "output_type": "execute_result"
    }
   ],
   "source": [
    "def removeHtml(line):\n",
    "    pattern=re.compile('<.*?>')\n",
    "    return re.sub(pattern,'',line)\n",
    "\n",
    "removeHtml('world <is a > good </place>')"
   ]
  },
  {
   "cell_type": "code",
   "execution_count": 22,
   "metadata": {},
   "outputs": [
    {
     "data": {
      "text/plain": [
       "' is URL for google'"
      ]
     },
     "execution_count": 22,
     "metadata": {},
     "output_type": "execute_result"
    }
   ],
   "source": [
    "def removeUrl(line):\n",
    "    return re.sub('http\\S+','',line,flags=re.IGNORECASE) #re.IGNORECASE doesn't work with precompiled patterns like used in removeHtml function\n",
    "\n",
    "removeUrl('HTTPs://google.com is URL for google')"
   ]
  },
  {
   "cell_type": "code",
   "execution_count": 23,
   "metadata": {},
   "outputs": [
    {
     "data": {
      "text/plain": [
       "'It is a  product'"
      ]
     },
     "execution_count": 23,
     "metadata": {},
     "output_type": "execute_result"
    }
   ],
   "source": [
    "#https://stackoverflow.com/questions/37012948/regex-to-match-an-entire-word-that-contains-repeated-character\n",
    "#Remove words like 'zzzzzzzzzzzzzzzzzzzzzzz', 'testtting', 'grrrrrrreeeettttt' etc. Preserves words like 'looks', 'goods', 'soon' etc. We will remove all such words which has three consecutive repeating characters.\n",
    "def removePatterns(sentence): \n",
    "    cleaned_text  = re.sub(\"\\\\s*\\\\b(?=\\\\w*(\\\\w)\\\\1{2,})\\\\w*\\\\b\",' ',sentence)\n",
    "    return (cleaned_text)\n",
    "\n",
    "removePatterns('It is a greeeaaattt product')"
   ]
  },
  {
   "cell_type": "code",
   "execution_count": 24,
   "metadata": {},
   "outputs": [
    {
     "data": {
      "text/plain": [
       "'he  will not give me 1 m  dollar  for no good'"
      ]
     },
     "execution_count": 24,
     "metadata": {},
     "output_type": "execute_result"
    }
   ],
   "source": [
    "def decontracted(x):\n",
    "    x = str(x).lower()\n",
    "    x = x.replace(\",000,000\", \" m\").replace(\",000\", \" k\").replace(\"′\", \"'\").replace(\"’\", \"'\")\\\n",
    "                           .replace(\"won't\", \" will not\").replace(\"cannot\", \" can not\").replace(\"can't\", \" can not\")\\\n",
    "                           .replace(\"n't\", \" not\").replace(\"what's\", \" what is\").replace(\"it's\", \" it is\")\\\n",
    "                           .replace(\"'ve\", \" have\").replace(\"'m\", \" am\").replace(\"'re\", \" are\")\\\n",
    "                           .replace(\"he's\", \" he is\").replace(\"she's\", \" she is\").replace(\"'s\", \" own\")\\\n",
    "                           .replace(\"%\", \" percent \").replace(\"₹\", \" rupee \").replace(\"$\", \" dollar \")\\\n",
    "                           .replace(\"€\", \" euro \").replace(\"'ll\", \" will\").replace(\"how's\",\" how has\").replace(\"y'all\",\" you all\")\\\n",
    "                           .replace(\"o'clock\",\" of the clock\").replace(\"ne'er\",\" never\").replace(\"let's\",\" let us\")\\\n",
    "                           .replace(\"finna\",\" fixing to\").replace(\"gonna\",\" going to\").replace(\"gimme\",\" give me\").replace(\"gotta\",\" got to\").replace(\"'d\",\" would\")\\\n",
    "                           .replace(\"daresn't\",\" dare not\").replace(\"dasn't\",\" dare not\").replace(\"e'er\",\" ever\").replace(\"everyone's\",\" everyone is\")\\\n",
    "                           .replace(\"'cause'\",\" because\")\n",
    "    \n",
    "    x = re.sub(r\"([0-9]+)000000\", r\"\\1m\", x)\n",
    "    x = re.sub(r\"([0-9]+)000\", r\"\\1k\", x)\n",
    "    return x\n",
    "\n",
    "decontracted(\"He won't give me 1,000,000 $ FOR NO GOOD\")"
   ]
  },
  {
   "cell_type": "code",
   "execution_count": 25,
   "metadata": {},
   "outputs": [],
   "source": [
    "#Stemming and stopwords removal\n",
    "from nltk.stem.snowball import SnowballStemmer\n",
    "sno = SnowballStemmer(language='english')\n",
    "\n",
    "#Removing the word 'not' from stopwords\n",
    "default_stopwords = set(stopwords.words('english'))\n",
    "remove_not = set(['no', 'nor', 'not'])\n",
    "custom_stopwords = default_stopwords - remove_not"
   ]
  },
  {
   "cell_type": "markdown",
   "metadata": {},
   "source": [
    "### [2.2] Preprocessing functions calling"
   ]
  },
  {
   "cell_type": "code",
   "execution_count": 26,
   "metadata": {},
   "outputs": [
    {
     "name": "stderr",
     "output_type": "stream",
     "text": [
      "100%|██████████| 522127/522127 [06:47<00:00, 1282.45it/s]\n"
     ]
    }
   ],
   "source": [
    "#filtered_data321=filtered_data32[:3]\n",
    "filtered_data3=filtered_data2\n",
    "filtered_data3['CombinedText']=filtered_data3['Text'] + \" \" + filtered_data3['Summary']\n",
    "\n",
    "filtered_review=[]\n",
    "cleaned_review=[]\n",
    "all_positive_words=[]\n",
    "all_negative_words=[]\n",
    "\n",
    "for review,sentiment in tqdm(filtered_data3[['CombinedText','SentimentPolarity']].values , position=0): # tqdm by default was returning too many lines. Giving position=0 enforces it to come in one line.\n",
    "    review=removeHtml(review)\n",
    "    review=removeUrl(review)\n",
    "    review=removePatterns(review)\n",
    "    review=decontracted(review)\n",
    "    \n",
    "    for cleaned_word in review.split():\n",
    "        if (cleaned_word not in custom_stopwords):\n",
    "            stemmed_word=sno.stem(cleaned_word)            #print(stemmed_word) #print(sentiment)\n",
    "            filtered_review.append(stemmed_word)\n",
    "            if (sentiment=='Positive'):\n",
    "                all_positive_words.append(stemmed_word)\n",
    "            if (sentiment=='Negative'):\n",
    "                all_negative_words.append(stemmed_word)\n",
    "    cleaned_review.append(\" \".join(filtered_review).strip())\n",
    "    filtered_review=[]\n",
    "\n",
    "filtered_data3['CleanedText']=cleaned_review\n",
    "\n",
    "#print(filtered_data3[['Text','CleanedText']])#print(all_positive_words)#print(all_negative_words)"
   ]
  },
  {
   "cell_type": "markdown",
   "metadata": {},
   "source": [
    "### [2.3] Database Save and Load"
   ]
  },
  {
   "cell_type": "code",
   "execution_count": 39,
   "metadata": {},
   "outputs": [
    {
     "ename": "NameError",
     "evalue": "name 'cleaned_review' is not defined",
     "output_type": "error",
     "traceback": [
      "\u001b[1;31m---------------------------------------------------------------------------\u001b[0m",
      "\u001b[1;31mNameError\u001b[0m                                 Traceback (most recent call last)",
      "\u001b[1;32m<ipython-input-39-39be9089ef3d>\u001b[0m in \u001b[0;36m<module>\u001b[1;34m\u001b[0m\n\u001b[1;32m----> 1\u001b[1;33m \u001b[1;32mdel\u001b[0m\u001b[1;33m(\u001b[0m\u001b[0mcleaned_review\u001b[0m\u001b[1;33m)\u001b[0m\u001b[1;33m\u001b[0m\u001b[1;33m\u001b[0m\u001b[0m\n\u001b[0m\u001b[0;32m      2\u001b[0m \u001b[1;33m\u001b[0m\u001b[0m\n\u001b[0;32m      3\u001b[0m \u001b[1;32mwith\u001b[0m \u001b[0mopen\u001b[0m\u001b[1;33m(\u001b[0m\u001b[1;34m'all_postive_words.pkl'\u001b[0m\u001b[1;33m,\u001b[0m\u001b[1;34m'wb'\u001b[0m\u001b[1;33m)\u001b[0m \u001b[1;32mas\u001b[0m \u001b[0mfile\u001b[0m\u001b[1;33m:\u001b[0m\u001b[1;33m\u001b[0m\u001b[1;33m\u001b[0m\u001b[0m\n\u001b[0;32m      4\u001b[0m     \u001b[0mpickle\u001b[0m\u001b[1;33m.\u001b[0m\u001b[0mdump\u001b[0m\u001b[1;33m(\u001b[0m\u001b[0mall_positive_words\u001b[0m\u001b[1;33m,\u001b[0m \u001b[0mfile\u001b[0m\u001b[1;33m)\u001b[0m\u001b[1;33m\u001b[0m\u001b[1;33m\u001b[0m\u001b[0m\n\u001b[0;32m      5\u001b[0m \u001b[1;33m\u001b[0m\u001b[0m\n",
      "\u001b[1;31mNameError\u001b[0m: name 'cleaned_review' is not defined"
     ]
    }
   ],
   "source": [
    "with open('all_postive_words.pkl','wb') as file:\n",
    "    pickle.dump(all_positive_words, file)\n",
    "    \n",
    "with open('all_negative_words.pkl','wb') as file:\n",
    "    pickle.dump(all_negative_words, file)\n",
    "    \n",
    "\n",
    "del (all_positive_words, all_negative_words)\n",
    "\n",
    "#Store final table into an SQlLite table for future.\n",
    "connection_sqlobject = sqlite3.connect('totally_processed_DB.sqlite')\n",
    "#c=connection_sqlobject.cursor()\n",
    "#connection_sqlobject.text_factory = str\n",
    "filtered_data3.to_sql('Reviews', connection_sqlobject, schema=None, if_exists='replace', index=True) # these parameters are optional-schema=None, if_exists='replace', index=True\n",
    "# Good practice to always use if_exists='replace' property, so that if the whole notebook is rerun then it will jsut recreate and replace existing table.\n",
    "print(\"File is saved as 'totally_processed_DB.sqlite'\")    \n",
    "\n",
    "'''Loading the Amazon dataset, Remove duplicate data.'''\n",
    "#Data Source: https://www.kaggle.com/snap/amazon-fine-food-reviews.\n",
    "connection_sqlobject = sqlite3.connect('totally_processed_DB.sqlite') \n",
    "processed_db = pd.read_sql_query(\"\"\" SELECT * FROM Reviews \"\"\", connection_sqlobject)"
   ]
  },
  {
   "cell_type": "markdown",
   "metadata": {},
   "source": [
    "### [2.4] Split in train , test and Calib (if in case the predicted value is probability instead of actual value)"
   ]
  },
  {
   "cell_type": "code",
   "execution_count": 29,
   "metadata": {},
   "outputs": [
    {
     "data": {
      "text/html": [
       "<div>\n",
       "<style scoped>\n",
       "    .dataframe tbody tr th:only-of-type {\n",
       "        vertical-align: middle;\n",
       "    }\n",
       "\n",
       "    .dataframe tbody tr th {\n",
       "        vertical-align: top;\n",
       "    }\n",
       "\n",
       "    .dataframe thead th {\n",
       "        text-align: right;\n",
       "    }\n",
       "</style>\n",
       "<table border=\"1\" class=\"dataframe\">\n",
       "  <thead>\n",
       "    <tr style=\"text-align: right;\">\n",
       "      <th></th>\n",
       "      <th>index</th>\n",
       "      <th>Id</th>\n",
       "      <th>ProductId</th>\n",
       "      <th>UserId</th>\n",
       "      <th>Score</th>\n",
       "      <th>Summary</th>\n",
       "      <th>Text</th>\n",
       "      <th>SentimentPolarity</th>\n",
       "      <th>Class_Labels</th>\n",
       "      <th>CombinedText</th>\n",
       "      <th>CleanedText</th>\n",
       "    </tr>\n",
       "  </thead>\n",
       "  <tbody>\n",
       "    <tr>\n",
       "      <th>0</th>\n",
       "      <td>0</td>\n",
       "      <td>1</td>\n",
       "      <td>B001E4KFG0</td>\n",
       "      <td>A3SGXH7AUHU8GW</td>\n",
       "      <td>5</td>\n",
       "      <td>Good Quality Dog Food</td>\n",
       "      <td>I have bought several of the Vitality canned d...</td>\n",
       "      <td>Positive</td>\n",
       "      <td>1</td>\n",
       "      <td>I have bought several of the Vitality canned d...</td>\n",
       "      <td>bought sever vital can dog food product found ...</td>\n",
       "    </tr>\n",
       "    <tr>\n",
       "      <th>1</th>\n",
       "      <td>1</td>\n",
       "      <td>2</td>\n",
       "      <td>B00813GRG4</td>\n",
       "      <td>A1D87F6ZCVE5NK</td>\n",
       "      <td>1</td>\n",
       "      <td>Not as Advertised</td>\n",
       "      <td>Product arrived labeled as Jumbo Salted Peanut...</td>\n",
       "      <td>Negative</td>\n",
       "      <td>0</td>\n",
       "      <td>Product arrived labeled as Jumbo Salted Peanut...</td>\n",
       "      <td>product arriv label jumbo salt peanuts...th pe...</td>\n",
       "    </tr>\n",
       "  </tbody>\n",
       "</table>\n",
       "</div>"
      ],
      "text/plain": [
       "   index  Id   ProductId          UserId  Score                Summary  \\\n",
       "0      0   1  B001E4KFG0  A3SGXH7AUHU8GW      5  Good Quality Dog Food   \n",
       "1      1   2  B00813GRG4  A1D87F6ZCVE5NK      1      Not as Advertised   \n",
       "\n",
       "                                                Text SentimentPolarity  \\\n",
       "0  I have bought several of the Vitality canned d...          Positive   \n",
       "1  Product arrived labeled as Jumbo Salted Peanut...          Negative   \n",
       "\n",
       "   Class_Labels                                       CombinedText  \\\n",
       "0             1  I have bought several of the Vitality canned d...   \n",
       "1             0  Product arrived labeled as Jumbo Salted Peanut...   \n",
       "\n",
       "                                         CleanedText  \n",
       "0  bought sever vital can dog food product found ...  \n",
       "1  product arriv label jumbo salt peanuts...th pe...  "
      ]
     },
     "execution_count": 29,
     "metadata": {},
     "output_type": "execute_result"
    }
   ],
   "source": [
    "# Note : processed_db.head(2) in middle of the code (followed by other code), could not have give output\n",
    "\n",
    "#Split the data into train and test set. The train set will contain 100K old reviews. The test set has 30k newer reviews. We will also use 40K latest reviews as a calibration dataset to calibrate our model. \n",
    "X_train = processed_db['CleanedText'].iloc[150000:250000,] ; y_train = processed_db['Class_Labels'].iloc[150000:250000,]\n",
    "X_test = processed_db['CleanedText'].iloc[250000:280000,] ; y_test = processed_db['Class_Labels'].iloc[250000:280000,]\n",
    "X_calib = processed_db['CleanedText'].iloc[280000:320000,] ; y_calib = processed_db['Class_Labels'].iloc[280000:320000,]\n",
    "\n",
    "processed_db.head(2)"
   ]
  },
  {
   "cell_type": "markdown",
   "metadata": {},
   "source": [
    "### [3.0] Featuring"
   ]
  },
  {
   "cell_type": "code",
   "execution_count": 30,
   "metadata": {},
   "outputs": [
    {
     "name": "stderr",
     "output_type": "stream",
     "text": [
      "C:\\Users\\Mota-PC\\Anaconda\\lib\\site-packages\\sklearn\\feature_extraction\\text.py:1567: UserWarning: Only (<class 'numpy.float64'>, <class 'numpy.float32'>, <class 'numpy.float16'>) 'dtype' should be used. float 'dtype' will be converted to np.float64.\n",
      "  UserWarning)\n"
     ]
    },
    {
     "name": "stdout",
     "output_type": "stream",
     "text": [
      "Some feature names  ['11 year', '110', '110 calori', '110 calories', '11g', '11oz', '12', '12 00', '12 12', '12 13']\n",
      "=======================================================================================================================================================================================================================\n",
      "\n",
      "Creating the TF-IDF vectors using the cleaned corpus...\n",
      "\n",
      "The type of count vectorizer  <class 'scipy.sparse.csr.csr_matrix'>\n",
      "The shape of our train BiGram vectorizer  (100000, 50000)\n",
      "The shape of our test BiGram vectorizer  (30000, 50000)\n"
     ]
    }
   ],
   "source": [
    "#Initializing the TF-IDF constructor\n",
    "tf_idf_obj = TfidfVectorizer(ngram_range=(1,2), min_df=10, max_features=50000, dtype='float') #min_df=10: ignore terms that have a document frequency strictly lower than 10. max_features=50000: top 50000 features\n",
    "\n",
    "#Train it with train data\n",
    "tf_idf_obj.fit(X_train)\n",
    "\n",
    "#Print names of some random features\n",
    "print(\"Some feature names \", tf_idf_obj.get_feature_names()[100:110])\n",
    "print('='*215)\n",
    "\n",
    "#Creating the TF-IDF matrix from cleaned data corpus. Only 'not', 'no', 'nor' is preserved from stopwords. This is done for both train and test Vectors.\n",
    "print(\"\\nCreating the TF-IDF vectors using the cleaned corpus...\")\n",
    "X_train_vectors = tf_idf_obj.transform(X_train)\n",
    "X_test_vectors = tf_idf_obj.transform(X_test)\n",
    "X_calib_vectors = tf_idf_obj.transform(X_calib)\n",
    "\n",
    "print(\"\\nThe type of count vectorizer \",type(X_train_vectors))\n",
    "print(\"The shape of our train BiGram vectorizer \",X_train_vectors.get_shape())\n",
    "print(\"The shape of our test BiGram vectorizer \",X_test_vectors.get_shape())\n",
    "\n",
    "#Save the bow train and test matrices for later use. We will need this later when we apply our models on them\n",
    "import pickle\n",
    "with open('X_train_TFIDF.pkl', 'wb') as file:\n",
    "    pickle.dump(X_train_vectors, file)\n",
    "    \n",
    "with open('X_test_TFIDF.pkl', 'wb') as file:\n",
    "    pickle.dump(X_test_vectors, file)\n",
    "    \n",
    "with open('y_train_TFIDF.pkl', 'wb') as file:\n",
    "    pickle.dump(y_train, file)\n",
    "    \n",
    "with open('y_test_TFIDF.pkl', 'wb') as file:\n",
    "    pickle.dump(y_test, file)\n",
    "    \n",
    "with open('X_calib_TFIDF.pkl', 'wb') as file:\n",
    "    pickle.dump(X_calib_vectors, file)\n",
    "    \n",
    "with open('y_calib_TFIDF.pkl', 'wb') as file:\n",
    "    pickle.dump(y_calib, file)\n",
    "\t"
   ]
  },
  {
   "cell_type": "markdown",
   "metadata": {},
   "source": [
    "### [4.0] Accuracy Measure(like AUC score in this case) with graph"
   ]
  },
  {
   "cell_type": "code",
   "execution_count": 31,
   "metadata": {},
   "outputs": [],
   "source": [
    "#This function is used to plot the ROC curve on both train and test.\n",
    "#https://scikit-learn.org/stable/auto_examples/model_selection/plot_roc.html\n",
    "def plot_roc(classifier, X_train, y_train, X_test, y_test):\n",
    "    from sklearn.metrics import roc_curve, auc\n",
    "    fpr = dict()\n",
    "    tpr = dict()\n",
    "    roc_auc = dict()\n",
    "    \n",
    "    '''TEST DATA ROC CURVE'''\n",
    "    #Use probability scores to compute the ROC Curve\n",
    "    class_probabilities = classifier.predict_proba(X_test)\n",
    "    y_probs = class_probabilities[:,1]\n",
    "    fpr[\"Test\"], tpr[\"Test\"], threshold = roc_curve(y_test, y_probs)\n",
    "    roc_auc[\"Test\"] = auc(fpr[\"Test\"], tpr[\"Test\"])\n",
    "    \n",
    "    '''TRAIN DATA ROC CURVE'''\n",
    "    #Use probability scores to compute the ROC Curve\n",
    "    class_probabilities = classifier.predict_proba(X_train)\n",
    "    y_probs = class_probabilities[:,1]\n",
    "    fpr[\"Train\"], tpr[\"Train\"], threshold = roc_curve(y_train, y_probs)\n",
    "    roc_auc[\"Train\"] = auc(fpr[\"Train\"], tpr[\"Train\"])\n",
    "    \n",
    "    plt.figure(figsize=(15,10))\n",
    "    linewidth = 2\n",
    "    plt.plot(fpr[\"Test\"], tpr[\"Test\"], color='green', lw=linewidth, label='ROC curve Test Data (area = %0.2f)' % roc_auc[\"Test\"])\n",
    "    plt.plot(fpr[\"Train\"], tpr[\"Train\"], color='red', lw=linewidth, label='ROC curve Train Data (area = %0.2f)' % roc_auc[\"Train\"])\n",
    "    plt.plot([0, 1], [0, 1], color='navy', lw=linewidth, linestyle='--', label='Baseline ROC curve (area = 0.5)')\n",
    "    plt.xlim([0.0, 1.0])\n",
    "    plt.ylim([0.0, 1.05])\n",
    "    plt.xlabel('False Positive Rate')\n",
    "    plt.ylabel('True Positive Rate')\n",
    "    plt.title('Receiver operating characteristic example')\n",
    "    plt.legend(loc=\"lower right\")\n",
    "    plt.show()"
   ]
  },
  {
   "cell_type": "markdown",
   "metadata": {},
   "source": [
    "### [4.1] Performance Report(like Classification report and Confusion Matrix in this case) method having CalibratedClassifierCV call in case of output is probabilities of being in a class instead of class labels AND call to above Accuracy measure method"
   ]
  },
  {
   "cell_type": "code",
   "execution_count": 32,
   "metadata": {},
   "outputs": [],
   "source": [
    "#Fit this model with the best value of hyperparameter obtained.\n",
    "def performance(best_estimator, regularization, vectorizationType, X_train, y_train, X_test, y_test, X_calib, y_calib, optimal_hp):\n",
    "    '''This function is used to measure the various performance metrics of the model. The model is build using the best value\n",
    "    of hyperparameter C, obtained using grid and random search time series based cross validation. '''\n",
    "    \n",
    "    print(\"\\n'''PERFORMANCE EVALUATION for {} model using {} regularization'''\".format(vectorizationType, regularization))\n",
    "    print(\"\\nDetailed report for Logistic regression using {} regulaization\".format(regularization))\n",
    "    \n",
    "    #Initialize the LE model, with the best estimator and Fit the model to the train set\n",
    "    classifier = best_estimator\n",
    "    classifier.fit(X_train,y_train)\n",
    "\n",
    "    #Using CalibratedClassifierCV to caliberate the trained classifier.\n",
    "    calibrated_clf=CalibratedClassifierCV(base_estimator=classifier, cv='prefit', method='isotonic')\n",
    "    calibrated_clf.fit(X_calib,y_calib)\n",
    "\n",
    "    #Predict the labels for the test set.\n",
    "    y_pred = calibrated_clf.predict(X_test)\n",
    "\n",
    "    #For computing AUC\n",
    "    class_probabilities = calibrated_clf.predict_proba(X_test)\n",
    "    y_probs = class_probabilities[:,1]\n",
    "    \n",
    "    #A dictionary which will store the metric values for each model\n",
    "    metric_info = dict()\n",
    "    \n",
    "    #Evaluate the accuracy of the model on test set\n",
    "    metric_info[\"Accuracy\"] = accuracy_score(y_test, y_pred, normalize=True) * 100 #test_accuracy\n",
    "    metric_info[\"Points\"] = accuracy_score(y_test, y_pred, normalize=False) #Number of accurate predictions\n",
    "    metric_info[\"Precision\"] = np.round(metrics.precision_score(y_test ,y_pred),4)\n",
    "    metric_info[\"Recall\"] = np.round(metrics.recall_score(y_test ,y_pred),4)\n",
    "    metric_info[\"F1-score\"] = np.round(metrics.f1_score(y_test ,y_pred),4)\n",
    "    metric_info[\"AUC\"] = np.round(metrics.roc_auc_score(y_test, y_probs),4) #Use probabilities to get a more realistic ROC Curve\n",
    "    metric_info[\"Optimal-HP\"] = np.round(optimal_hp,4)\n",
    "\n",
    "    #Display the precision, recall, F1 score and AUC for this model.    \n",
    "    print('\\nThe number of accurate predictions out of {} data points on unseen data for {} regularization is {}'.format(X_test.shape[0],regularization, metric_info[\"Points\"]))\n",
    "    print('Accuracy of the {} model using {} regularization on unseen data is {} %'.format(vectorizationType, regularization, metric_info[\"Accuracy\"]))\n",
    "    print(\"Precision of the {} model using {} regularization on unseen data is {}\".format(vectorizationType, regularization, metric_info[\"Precision\"]))\n",
    "    print(\"Recall of the {} model using {} regularization on unseen data is {}\".format(vectorizationType, regularization, metric_info[\"Recall\"]))\n",
    "    print(\"F1 score of the {} model using {} regularization on unseen data is {}\".format(vectorizationType, regularization, metric_info[\"F1-score\"]))\n",
    "    print(\"AUC of the {} model using {} regularization on unseen data is {}\".format(vectorizationType, regularization, metric_info[\"AUC\"]))\n",
    "    \n",
    "    #Print the classification Report\n",
    "    print ('\\nClasification report ')\n",
    "    print(metrics.classification_report(y_test,y_pred))\n",
    "    \n",
    "    #Inference\n",
    "    print(\"\\nOf all the reviews that the model has predicted to be positive, {}% of them are actually positive.\".format(np.round(metric_info[\"Precision\"]*100),2))\n",
    "    print(\"Of all the reviews that are actually positive, the model has predicted {}% of them to be positive.\".format(np.round(metric_info[\"Recall\"]*100),2))\n",
    "    \n",
    "    #Get the confusion matrix for the running model\n",
    "    #sciplot.plot_confusion_matrix(y_test ,y_pred)\n",
    "    cm = metrics.confusion_matrix(y_test ,y_pred)\n",
    "    \n",
    "    #Plot confusion matrix using seaborn heatmap.\n",
    "    import seaborn as sn\n",
    "    df_cm = pd.DataFrame(cm, index = [' (0)',' (1)'], columns = [' (0)',' (1)'])\n",
    "    plt.figure(figsize = (10,7))\n",
    "    ax = sn.heatmap(df_cm, annot=True, fmt='d')   #fmt='d' for decimal integer.\n",
    "    ax.set_xlabel(\"Predicted Label\")\n",
    "    ax.set_ylabel(\"True Label\")\n",
    "    ax.set_title('CONFUSION MATRIX')\n",
    "    \n",
    "    #Plot the ROC Curve for both train and test data\n",
    "    plot_roc(calibrated_clf, X_train, y_train, X_test, y_test)\n",
    "    \n",
    "    #Save the below list for later use to display model information\n",
    "    # Model, Regularization, HyperParameter Value, Accuracy, AUC, Number of Correct Accurate Predictions \n",
    "    info_model_LR = [vectorizationType, regularization, metric_info[\"Optimal-HP\"], metric_info[\"Accuracy\"], metric_info[\"AUC\"], metric_info[\"Points\"]]\n",
    "    with open('info_model_LR.txt', 'a') as filehandle:  \n",
    "        filehandle.writelines(\"%s \" % iterator for iterator in info_model_LR)\n",
    "        filehandle.writelines(\"\\n\")\n",
    "        \n",
    "    return classifier"
   ]
  },
  {
   "cell_type": "markdown",
   "metadata": {},
   "source": [
    "### [4.2] Scaling method"
   ]
  },
  {
   "cell_type": "code",
   "execution_count": 33,
   "metadata": {},
   "outputs": [],
   "source": [
    "#This function is used to standardize a data matrix.\n",
    "def standardize(data, with_mean):\n",
    "    '''Function used to column standardize any given matrix'''\n",
    "    from sklearn.preprocessing import StandardScaler\n",
    "    scalar = StandardScaler(with_mean=with_mean)\n",
    "    std=scalar.fit_transform(data)\n",
    "    return (std)"
   ]
  },
  {
   "cell_type": "markdown",
   "metadata": {},
   "source": [
    "### [4.3] HyperParameter tuning method with graph"
   ]
  },
  {
   "cell_type": "code",
   "execution_count": 34,
   "metadata": {},
   "outputs": [],
   "source": [
    "#This function is used to plot the performance of model both on train data and cross validation data for each hyper parameter.\n",
    "def plot_errors(gsearch_cv, regularization):\n",
    "    '''This function is used to plot the curve for mean squared errors vs alpha values and obtain the optimal \n",
    "    value of the hyperparameter C.'''\n",
    "    \n",
    "    #Get cross validation scores. Here we obtain the C values and their corresponding mean test scores.\n",
    "    cv_result = gsearch_cv.cv_results_         \n",
    "    auc_test = list(cv_result[\"mean_test_score\"])        #list that will hold the mean of cross validation accuracy scores for each C\n",
    "    auc_train = list(cv_result[\"mean_train_score\"])\n",
    "    hyperparameters = cv_result[\"params\"]\n",
    "    \n",
    "    hp_values = []                         #list that will hold all the C values that the grid search cross validator tried.\n",
    "    for i in range(0,len(hyperparameters)):\n",
    "        hp_values.append(hyperparameters[i][\"C\"])\n",
    "    \n",
    "    '''#Changing accuracy to mean squared error. **error = 1 - accuracy ; error = Cross Validation Errors, accuracy = Cross Validation accuracy\n",
    "    auc_test_error = [1 - x for x in auc_test]\n",
    "    auc_train_error = [1 - x for x in auc_train]'''\n",
    "    \n",
    "    \n",
    "    #Determining best alpha from errors. 'C' will be best for the lowest value for error\n",
    "    optimal_hp = hp_values[auc_test.index(max(auc_test))] \n",
    "    print('The optimal value of C using l1 regularization is : {}'.format(optimal_hp))     \n",
    "    \n",
    "    #Plot error vs C values\n",
    "    plt.figure(figsize=(35,8))\n",
    "    plt.plot(hp_values , auc_train, color='red', linestyle='-', linewidth=3, marker='.', markerfacecolor='black', markersize=10, label='Train AUC')\n",
    "    plt.plot(hp_values , auc_test, color='blue', linestyle='-', linewidth=3, marker='.', markerfacecolor='black', markersize=10, label='Validation AUC')\n",
    "    plt.title('Area under the ROC Curve vs C Values ')\n",
    "    plt.xlabel('Hyperparameter: Values of C')\n",
    "    plt.ylabel('Area under the ROC Curve (AUC Scores)')\n",
    "    plt.legend()\n",
    "    plt.show()\n",
    "    \n",
    "    return (optimal_hp)"
   ]
  },
  {
   "cell_type": "markdown",
   "metadata": {},
   "source": [
    "### [4.4] Cross Validation method(having HyperParameter method call)"
   ]
  },
  {
   "cell_type": "code",
   "execution_count": 35,
   "metadata": {},
   "outputs": [],
   "source": [
    "\n",
    "def get_GridSearchCV_estimator(regularization, vectorizationType, X_train, y_train, X_test, y_test):\n",
    "    '''This function will determine the best hyperparameters using TimeSeriesSplit CV and Grid Search, using 10 fold cross validation. '''\n",
    "    print(\"\\nUSING {} REGULARIZATION WITH GRIDSEARCH_CV TO DETERMINE THE HYPERPARAMETERS FOR {} MODEL. \".format(regularization.upper(),vectorizationType))\n",
    "    print(\"*******************************************************************************************************\")\n",
    "    st=dt.now()\n",
    "    from sklearn.model_selection import TimeSeriesSplit\n",
    "    c_values = np.logspace(-4,3,50)\n",
    "    tuned_parameters = [{'C': c_values}] #C values used for cross validation\n",
    "    n_folds = 10\n",
    "    model = LogisticRegression(penalty=regularization, random_state=0)\n",
    "    cv_timeSeries = TimeSeriesSplit(n_splits=n_folds).split(X_train)\n",
    "    gsearch_cv = GridSearchCV(estimator=model, param_grid=tuned_parameters, cv=cv_timeSeries, scoring='roc_auc', n_jobs=-1)\n",
    "    gsearch_cv.fit(X_train, y_train)\n",
    "    print(\"Best estimator for {} regularization : \\n\".format(regularization), gsearch_cv.best_estimator_)\n",
    "    print(\"Best Score for {} regularization : \".format(regularization), gsearch_cv.best_score_)\n",
    "    optimal_hp=plot_errors(gsearch_cv, regularization)\n",
    "    print(\"Time taken to complete grid search: \",dt.now()-st)\n",
    "    return  (gsearch_cv,optimal_hp)\n",
    "                    \n"
   ]
  },
  {
   "cell_type": "markdown",
   "metadata": {},
   "source": [
    "### [4.5] Final method definition having call to CV method and Performance method defined above"
   ]
  },
  {
   "cell_type": "code",
   "execution_count": 36,
   "metadata": {},
   "outputs": [],
   "source": [
    "def logistic_regression(X_train, y_train, X_test, y_test, X_calib, y_calib, regularization, vectorizationType):\n",
    "    '''This  function will determine the best estimators for each model and use them to call several other functions\n",
    "    which trains the model and measure the performance of the model and plot the final results etc.'''\n",
    "    \n",
    "    gsearch_cv, optimal_hp = get_GridSearchCV_estimator(regularization, vectorizationType, X_train, y_train, X_test, y_test)\n",
    "    best_estimator = gsearch_cv.best_estimator_\n",
    "    trained_classifier = performance(best_estimator, regularization, vectorizationType, X_train, y_train, X_test, y_test, X_calib, y_calib, optimal_hp)\n",
    "    return (trained_classifier)"
   ]
  },
  {
   "cell_type": "markdown",
   "metadata": {},
   "source": [
    "### [5.0] Final method call after calling standardize method defined above"
   ]
  },
  {
   "cell_type": "code",
   "execution_count": 37,
   "metadata": {},
   "outputs": [
    {
     "name": "stdout",
     "output_type": "stream",
     "text": [
      "Shape of the train data matrix:  (100000, 50000)\n",
      "Shape of the test data matrix:  (30000, 50000)\n",
      "Shape of the calibration data matrix:  (40000, 50000)\n",
      "\n",
      "USING L1 REGULARIZATION WITH GRIDSEARCH_CV TO DETERMINE THE HYPERPARAMETERS FOR TF-IDF MODEL. \n",
      "*******************************************************************************************************\n",
      "Best estimator for l1 regularization : \n",
      " LogisticRegression(C=0.019306977288832496, class_weight=None, dual=False,\n",
      "          fit_intercept=True, intercept_scaling=1, max_iter=100,\n",
      "          multi_class='warn', n_jobs=None, penalty='l1', random_state=0,\n",
      "          solver='warn', tol=0.0001, verbose=0, warm_start=False)\n",
      "Best Score for l1 regularization :  0.967129553322208\n",
      "The optimal value of C using l1 regularization is : 0.019306977288832496\n"
     ]
    },
    {
     "data": {
      "image/png": "[encoded data removed]",
      "text/plain": [
       "<Figure size 2520x576 with 1 Axes>"
      ]
     },
     "metadata": {
      "needs_background": "light"
     },
     "output_type": "display_data"
    },
    {
     "name": "stdout",
     "output_type": "stream",
     "text": [
      "Time taken to complete grid search:  0:11:23.579052\n",
      "\n",
      "'''PERFORMANCE EVALUATION for TF-IDF model using l1 regularization'''\n",
      "\n",
      "Detailed report for Logistic regression using l1 regulaization\n",
      "\n",
      "The number of accurate predictions out of 30000 data points on unseen data for l1 regularization is 28568\n",
      "Accuracy of the TF-IDF model using l1 regularization on unseen data is 95.22666666666667 %\n",
      "Precision of the TF-IDF model using l1 regularization on unseen data is 0.9669\n",
      "Recall of the TF-IDF model using l1 regularization on unseen data is 0.9766\n",
      "F1 score of the TF-IDF model using l1 regularization on unseen data is 0.9717\n",
      "AUC of the TF-IDF model using l1 regularization on unseen data is 0.9775\n",
      "\n",
      "Clasification report \n",
      "              precision    recall  f1-score   support\n",
      "\n",
      "           0       0.87      0.83      0.85      4822\n",
      "           1       0.97      0.98      0.97     25178\n",
      "\n",
      "   micro avg       0.95      0.95      0.95     30000\n",
      "   macro avg       0.92      0.90      0.91     30000\n",
      "weighted avg       0.95      0.95      0.95     30000\n",
      "\n",
      "\n",
      "Of all the reviews that the model has predicted to be positive, 97.0% of them are actually positive.\n",
      "Of all the reviews that are actually positive, the model has predicted 98.0% of them to be positive.\n"
     ]
    },
    {
     "data": {
      "image/png": "[encoded data removed]",
      "text/plain": [
       "<Figure size 720x504 with 2 Axes>"
      ]
     },
     "metadata": {
      "needs_background": "light"
     },
     "output_type": "display_data"
    },
    {
     "data": {
      "image/png": "[encoded data removed]",
      "text/plain": [
       "<Figure size 1080x720 with 1 Axes>"
      ]
     },
     "metadata": {
      "needs_background": "light"
     },
     "output_type": "display_data"
    }
   ],
   "source": [
    "#Load the TF-IDF Vectors we had created earlier and standardize them. We will standardize the traina and test data seperately in order to prevent data leakage.\n",
    "import pickle\n",
    "\n",
    "with open('X_train_TFIDF.pkl', 'rb') as file:\n",
    "    X_train = pickle.load(file)\n",
    "    \n",
    "with open('X_test_TFIDF.pkl', 'rb') as file:\n",
    "    X_test = pickle.load(file)\n",
    "\n",
    "with open('y_train_TFIDF.pkl', 'rb') as file:\n",
    "    y_train = pickle.load(file)\n",
    "    \n",
    "with open('y_test_TFIDF.pkl', 'rb') as file:\n",
    "    y_test = pickle.load(file)\n",
    "    \n",
    "with open('X_calib_TFIDF.pkl', 'rb') as file:\n",
    "    X_calib = pickle.load(file)\n",
    "\n",
    "with open('y_calib_TFIDF.pkl', 'rb') as file:\n",
    "    y_calib = pickle.load(file)    \n",
    "\n",
    "print(\"Shape of the train data matrix: \",X_train.shape)\n",
    "print(\"Shape of the test data matrix: \",X_test.shape)\n",
    "print(\"Shape of the calibration data matrix: \",X_calib.shape)\n",
    "\n",
    "X_train=standardize(X_train, False)\n",
    "X_test=standardize(X_test, False)\n",
    "X_calib=standardize(X_calib, False)\n",
    "\n",
    "#Perform Grid Search cross validation to obtain the best value of the hyperparameter.\n",
    "#Use the best estimator obtained from grid search to train a model and get all the evaluation metrics\n",
    "#Plot the performance of model both on train data and cross validation data for each hyper parameter\n",
    "#Display the confusion matrix as well as ROC Curve\n",
    "trained_classifier_TFIDF_L1 = logistic_regression(X_train, y_train, X_test, y_test, X_calib, y_calib, 'l1', 'TF-IDF')"
   ]
  },
  {
   "cell_type": "markdown",
   "metadata": {},
   "source": [
    "## Hence with managed to achieve ROC curve of 0.98 on test data using TFIDF."
   ]
  },
  {
   "cell_type": "code",
   "execution_count": null,
   "metadata": {},
   "outputs": [],
   "source": []
  }
 ],
 "metadata": {
  "kernelspec": {
   "display_name": "Python 3",
   "language": "python",
   "name": "python3"
  },
  "language_info": {
   "codemirror_mode": {
    "name": "ipython",
    "version": 3
   },
   "file_extension": ".py",
   "mimetype": "text/x-python",
   "name": "python",
   "nbconvert_exporter": "python",
   "pygments_lexer": "ipython3",
   "version": "3.7.1"
  }
 },
 "nbformat": 4,
 "nbformat_minor": 2
}
